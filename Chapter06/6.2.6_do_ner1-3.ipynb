{
 "cells": [
  {
   "cell_type": "code",
   "execution_count": null,
   "metadata": {},
   "outputs": [],
   "source": [
    "# do_ner1.py\n",
    "\n",
    "import spacy\n",
    "from spacy import displacy\n",
    "\n",
    "nlp = spacy.load('ja_ginza')\n",
    "\n",
    "text = '宮島でもみじ饅頭を食べた。'\n",
    "doc = nlp(text)\n",
    "\n",
    "# 固有表現を抽出\n",
    "for ent in doc.ents:\n",
    "    print(ent.text, ent.label_)\n",
    "\n",
    "# 固有表現の抽出結果を可視化\n",
    "displacy.render(doc, style='ent')"
   ]
  },
  {
   "cell_type": "code",
   "execution_count": null,
   "metadata": {
    "scrolled": true
   },
   "outputs": [],
   "source": [
    "# do_ner2.py\n",
    "\n",
    "import pandas as pd\n",
    "\n",
    "# 1. 口コミデータの読み込み\n",
    "df = pd.read_csv('text/miyajima_sample.csv', encoding='utf-8',\n",
    "                 parse_dates=['旅行の時期'])\n",
    "\n",
    "# 固有表現抽出の結果を表示\n",
    "for doc in nlp.pipe(df['口コミ']):\n",
    "    # 固有表現を抽出\n",
    "    for ent in doc.ents:\n",
    "        print(ent.text, ent.label_)\n",
    "    # 固有表現の抽出結果を可視化\n",
    "    if doc.ents:\n",
    "        displacy.render(doc, style='ent')\n",
    "    print('='*80)"
   ]
  },
  {
   "cell_type": "code",
   "execution_count": null,
   "metadata": {},
   "outputs": [],
   "source": [
    "# do_ner3.py\n",
    "\n",
    "from spacy.pipeline import EntityRuler\n",
    "\n",
    "# 2. 固有表現抽出のルールを追加\n",
    "ruler = EntityRuler(nlp, overwrite_ents=True)\n",
    "patterns = [\n",
    "    {'label': 'Dish', 'pattern': [\n",
    "        {'TEXT': 'あなご'},\n",
    "        {'TEXT': {'REGEX': r'飯|めし'}},\n",
    "    ]},\n",
    "    {'label': 'Dish', 'pattern': '揚げもみじ'},\n",
    "    {'label': 'Dish', 'pattern': 'ガンス'},\n",
    "    {'label': 'Dish', 'pattern': [\n",
    "        {'TEXT': 'にぎり'},\n",
    "        {'TEXT': '天'}\n",
    "    ]}\n",
    "]\n",
    "\n",
    "ruler.add_patterns(patterns)\n",
    "nlp.add_pipe(ruler,  before='ner')"
   ]
  },
  {
   "cell_type": "code",
   "execution_count": null,
   "metadata": {
    "scrolled": true
   },
   "outputs": [],
   "source": [
    "# 3. 固有表現抽出の結果を表示\n",
    "for doc in nlp.pipe(df['口コミ']):\n",
    "    # 固有表現を抽出\n",
    "    for ent in doc.ents:\n",
    "        print(ent.text, ent.label_)\n",
    "    # 固有表現の抽出結果を可視化\n",
    "    if doc.ents:\n",
    "        spacy.displacy.render(doc, style='ent')\n",
    "    print('='*80)"
   ]
  },
  {
   "cell_type": "code",
   "execution_count": null,
   "metadata": {},
   "outputs": [],
   "source": []
  }
 ],
 "metadata": {
  "kernelspec": {
   "display_name": "Python 3",
   "language": "python",
   "name": "python3"
  },
  "language_info": {
   "codemirror_mode": {
    "name": "ipython",
    "version": 3
   },
   "file_extension": ".py",
   "mimetype": "text/x-python",
   "name": "python",
   "nbconvert_exporter": "python",
   "pygments_lexer": "ipython3",
   "version": "3.8.5"
  }
 },
 "nbformat": 4,
 "nbformat_minor": 4
}
