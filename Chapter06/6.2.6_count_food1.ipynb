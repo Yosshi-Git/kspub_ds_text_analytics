{
 "cells": [
  {
   "cell_type": "code",
   "execution_count": 4,
   "metadata": {},
   "outputs": [],
   "source": [
    "# count_food1.py\n",
    "\n",
    "from collections import Counter\n",
    "\n",
    "import spacy\n",
    "from spacy.pipeline import EntityRuler\n",
    "import pandas as pd\n",
    "\n",
    "# 1. 口コミデータの読み込み\n",
    "df = pd.read_csv('text/miyajima_sample.csv', encoding='utf-8',\n",
    "                 parse_dates=['旅行の時期'])\n",
    "\n",
    "nlp = spacy.load('ja_ginza')"
   ]
  },
  {
   "cell_type": "code",
   "execution_count": 5,
   "metadata": {},
   "outputs": [],
   "source": [
    "# 2. 固有表現抽出のルールを追加\n",
    "ruler = EntityRuler(nlp, overwrite_ents=True)\n",
    "patterns = [\n",
    "    {'label': 'Dish', 'pattern': [\n",
    "        {'TEXT': 'あなご'},\n",
    "        {'TEXT': {'REGEX': r'飯|めし'}},\n",
    "    ]},\n",
    "    {'label': 'Dish', 'pattern': '揚げもみじ'},\n",
    "    {'label': 'Dish', 'pattern': 'ガンス'},\n",
    "    {'label': 'Dish', 'pattern': [\n",
    "        {'TEXT': 'にぎり'},\n",
    "        {'TEXT': '天'}\n",
    "    ]}\n",
    "]\n",
    "\n",
    "ruler.add_patterns(patterns)\n",
    "nlp.add_pipe(ruler,  before='ner')"
   ]
  },
  {
   "cell_type": "code",
   "execution_count": 6,
   "metadata": {
    "scrolled": true
   },
   "outputs": [
    {
     "name": "stdout",
     "output_type": "stream",
     "text": [
      "count word\n",
      "   31 もみじ饅頭\n",
      "   27 揚げもみじ\n",
      "   11 焼き牡蠣\n",
      "    8 饅頭\n",
      "    6 にぎり天\n",
      "    6 あなご飯\n",
      "    6 あなごめし\n",
      "    6 ガンス\n",
      "    5 コーヒー\n",
      "    4 牡蠣料理\n",
      "    4 アイスクリーム\n",
      "    4 お茶\n",
      "    3 穴子飯\n",
      "    3 鹿せんべい\n",
      "    3 穴子\n",
      "    3 タピオカ\n",
      "    3 クリーム\n",
      "    2 サンドdeおにぎり\n",
      "    2 アナゴ飯\n",
      "    2 宮島ビール\n",
      "    2 チーズ\n",
      "    2 ビール\n",
      "    2 日本酒\n",
      "    1 昼食\n",
      "    1 カクテル\n",
      "    1 ジュース\n",
      "    1 おにぎり\n",
      "    1 勝谷菓子パン舗\n",
      "    1 アナゴ飯弁当\n",
      "    1 地ビール\n",
      "    1 サイコロステーキ\n",
      "    1 ケーキ\n",
      "    1 作り立て\n",
      "    1 アイス\n",
      "    1 せんべい\n",
      "    1 穴子入り竹輪\n",
      "    1 スターバックス\n",
      "    1 レモンジュース\n",
      "    1 揚げ紅葉\n",
      "    1 抹茶\n",
      "    1 包々浦自然公園\n",
      "    1 お好み焼き\n",
      "    1 自然公園\n",
      "    1 多宝塔\n",
      "    1 包々浦\n",
      "    1 揚げ紅葉饅頭\n",
      "    1 カワウソ\n",
      "    1 殻付き牡蠣\n",
      "    1 牡蠣のパスタ\n",
      "    1 牡蠣入り\n",
      "    1 海鮮丼\n",
      "    1 牡蠣入りのカレーパン\n",
      "    1 ごはん\n",
      "    1 焼き立て\n",
      "    1 スターバックスコーヒー\n",
      "    1 プリップリ\n",
      "    1 七味\n",
      "    1 かきフライ\n",
      "    1 醤油マヨ\n",
      "    1 もみじ饅頭焼き\n"
     ]
    }
   ],
   "source": [
    "# 3. 料理名をリストに追加\n",
    "food = []\n",
    "for doc in nlp.pipe(df['口コミ']):\n",
    "    # 料理名（Dishタグ）を抽出\n",
    "    for ent in doc.ents:\n",
    "        if ent.label_ == 'Dish':\n",
    "            food.append(ent.text)\n",
    "\n",
    "# 4. 料理名の頻度をカウント\n",
    "counter = Counter(food)\n",
    "\n",
    "# 5. 料理名の頻度を表示\n",
    "print('count word')\n",
    "for word, count in counter.most_common():\n",
    "    print(f'{count:>5} {word}')"
   ]
  },
  {
   "cell_type": "code",
   "execution_count": null,
   "metadata": {},
   "outputs": [],
   "source": []
  }
 ],
 "metadata": {
  "kernelspec": {
   "display_name": "Python 3",
   "language": "python",
   "name": "python3"
  },
  "language_info": {
   "codemirror_mode": {
    "name": "ipython",
    "version": 3
   },
   "file_extension": ".py",
   "mimetype": "text/x-python",
   "name": "python",
   "nbconvert_exporter": "python",
   "pygments_lexer": "ipython3",
   "version": "3.8.5"
  }
 },
 "nbformat": 4,
 "nbformat_minor": 4
}
